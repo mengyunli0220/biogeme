{
 "cells": [
  {
   "cell_type": "code",
   "execution_count": null,
   "metadata": {},
   "outputs": [],
   "source": [
    "import pandas as pd\n",
    "import biogeme.database as db\n",
    "import biogeme.biogeme as bio\n",
    "import biogeme.models as models\n",
    "\n",
    "pandas = pd.read_table(\"tripdata.dat\")\n",
    "database = db.Database(\"tripdata\",pandas)\n",
    "\n",
    "# The Pandas data structure is available as database.data. Use all the\n",
    "# Pandas functions to invesigate the database\n",
    "#print(database.data.describe())\n",
    "\n",
    "from headers import *"
   ]
  },
  {
   "cell_type": "markdown",
   "metadata": {},
   "source": [
    "Below are all of the variables declarations:"
   ]
  },
  {
   "cell_type": "code",
   "execution_count": null,
   "metadata": {
    "scrolled": false
   },
   "outputs": [],
   "source": [
    "# Alternative specific constants\n",
    "ASC_AUTO_DRIVE = Beta('ASC_AUTO_DRIVE',0,None,None,0)\n",
    "ASC_AUTO_PASS = Beta('ASC_AUTO_PASS',0,None,None,0)\n",
    "ASC_METRO = Beta('ASC_METRO',0,None,None,0)\n",
    "ASC_TRAIN = Beta('ASC_TRAIN',0,None,None,0)\n",
    "ASC_WALK = Beta('ASC_WALK',0,None,None,1)\n",
    "\n",
    "# Sociodemo variables\n",
    "B_SEX = Beta('B_SEX',0,None,None,0) # 1 if female; 0 if otherwise\n",
    "B_AGE = Beta('B_AGE',0,None,None,0) # age\n",
    "B_EMP = Beta('B_EMP',0,None,None,0) # parttime or fulltime\n",
    "B_WKWK = Beta('B_WKWK',0,None,None,0) # work week\n",
    "B_INC = Beta('B_INC',0,None,None,0) # income\n",
    "B_HH = Beta('B_HH',0,None,None,0) # household\n",
    "B_NVEH = Beta('B_NVEH',0,None,None,0) # number of household vehicles\n",
    "\n",
    "# Generalized travel variables\n",
    "B_IVTT = Beta('B_IVTT',0,None,None,0) # in vehicle travel time\n",
    "B_DIST = Beta('B_DIST',0,None,None,0) # distance\n",
    "\n",
    "# Car-related variables\n",
    "B_DLIC = Beta('B_DLIC',0,None,None,0) # drivers license 1 or 0\n",
    "\n",
    "# Train-related variables\n",
    "B_NTERM = Beta('B_NTERM',0,None,None,0) # commuter train access station\n",
    "B_GFARE = Beta('B_GFARE',0,None,100,0) # commuter train fare\n",
    "B_GWAIT = Beta('B_GWAIT',0,None,100,0) # commuter train wait time\n",
    "\n",
    "# Metro-related variables\n",
    "B_MSUB = Beta('B_MSUB',0,None,None,0) # closest metro station to destination\n",
    "B_MDIS = Beta('B_MDIS',0,None,None,0) # distance from metro to destination\n",
    "B_TFARE = Beta('B_TFARE',0,None,None,0) # transit fare\n",
    "B_TWAIT = Beta('B_TWAIT',0,None,None,0) # transit wait time\n",
    "\n",
    "MU = Beta('MU',2.05,1,10,0)\n",
    "MU_2 = Beta('MU_2',2.05,1,10,0)"
   ]
  },
  {
   "cell_type": "markdown",
   "metadata": {},
   "source": [
    "The next cell defines new variables in order to exclude crazy values"
   ]
  },
  {
   "cell_type": "code",
   "execution_count": null,
   "metadata": {},
   "outputs": [],
   "source": [
    "# Updating variables to account for 'missing' values \n",
    "nveh_fix =  DefineVariable('nveh_fix', nveh * (nveh != 9), database)\n",
    "gfare_fix = DefineVariable('gfare_fix', gfare * (gfare != 9999), database)\n",
    "tfare_fix = DefineVariable('tfare_fix', tfare * (tfare != 9999), database)\n",
    "gwait_fix = DefineVariable('gwait_fix', gwait * (gwait != 9999), database)\n",
    "twait_fix = DefineVariable('twait_fix', twait * (twait != 9999), database)"
   ]
  },
  {
   "cell_type": "code",
   "execution_count": null,
   "metadata": {},
   "outputs": [],
   "source": [
    "V1 = ASC_AUTO_DRIVE + \\\n",
    "     B_DIST * trdist + \\\n",
    "     B_DLIC * dlic + \\\n",
    "     B_IVTT * ivtt1\n",
    "V2 = ASC_AUTO_PASS + \\\n",
    "     B_IVTT * ivtt2\n",
    "V3 = ASC_METRO + \\\n",
    "     B_TFARE * tfare_fix + \\\n",
    "     B_IVTT * ivtt3\n",
    "V4 = ASC_TRAIN + \\\n",
    "     B_DIST * trdist + \\\n",
    "     B_GFARE * gfare_fix + \\\n",
    "     B_NTERM * nterm + \\\n",
    "     B_IVTT * ivtt4\n",
    "V5 = ASC_WALK + \\\n",
    "     B_SEX * female + \\\n",
    "     B_IVTT * ivtt5"
   ]
  },
  {
   "cell_type": "code",
   "execution_count": null,
   "metadata": {},
   "outputs": [],
   "source": [
    "# Associate utility functions with the numbering of alternatives\n",
    "V = {1: V1,\n",
    "     2: V2,\n",
    "     3: V3,\n",
    "     4: V4,\n",
    "     5: V5}\n",
    "\n",
    "# Associate the availability conditions with the alternatives\n",
    "\n",
    "av = {1: avail1,\n",
    "      2: avail2,\n",
    "      3: avail3,\n",
    "      4: avail4,\n",
    "      5: avail5}\n",
    "\n",
    "#Definition of nests:\n",
    "# 1: nests parameter\n",
    "# 2: list of alternatives\n",
    "solo = 1.0 , [1,5]\n",
    "shared = MU, [2,3,4]\n",
    "nests = solo,shared\n",
    "\n",
    "logprob = models.lognested(V,av,nests,choice)\n",
    "biogeme  = bio.BIOGEME(database,logprob) # This is my log likelihood function\n",
    "biogeme.modelName = \"Nested_Model\"\n",
    "results = biogeme.estimate()\n",
    "\n",
    "# Print the estimated values\n",
    "betas = results.getBetaValues()\n",
    "for k,v in betas.items():\n",
    "    print(f\"{k}=\\t{v:.3g}\")\n",
    "\n",
    "# Get the results in a pandas table\n",
    "pandasResults = results.getEstimatedParameters()\n",
    "print(pandasResults)"
   ]
  }
 ],
 "metadata": {
  "kernelspec": {
   "display_name": "Python 3",
   "language": "python",
   "name": "python3"
  },
  "language_info": {
   "codemirror_mode": {
    "name": "ipython",
    "version": 3
   },
   "file_extension": ".py",
   "mimetype": "text/x-python",
   "name": "python",
   "nbconvert_exporter": "python",
   "pygments_lexer": "ipython3",
   "version": "3.7.1"
  }
 },
 "nbformat": 4,
 "nbformat_minor": 2
}
