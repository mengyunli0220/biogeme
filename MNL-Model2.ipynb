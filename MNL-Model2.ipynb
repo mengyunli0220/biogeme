{
 "cells": [
  {
   "cell_type": "code",
   "execution_count": 105,
   "metadata": {},
   "outputs": [],
   "source": [
    "import pandas as pd\n",
    "import biogeme.database as db\n",
    "import biogeme.biogeme as bio\n",
    "\n",
    "pandas = pd.read_table(\"tripdata.dat\")\n",
    "database = db.Database(\"tripdata\",pandas)\n",
    "\n",
    "# The Pandas data structure is available as database.data. Use all the\n",
    "# Pandas functions to invesigate the database\n",
    "#print(database.data.describe())\n",
    "\n",
    "from headers import *"
   ]
  },
  {
   "cell_type": "markdown",
   "metadata": {},
   "source": [
    "Below are all of the variables declarations:"
   ]
  },
  {
   "cell_type": "code",
   "execution_count": 106,
   "metadata": {
    "scrolled": false
   },
   "outputs": [],
   "source": [
    "# Alternative specific constants\n",
    "ASC_AUTO_DRIVE = Beta('ASC_AUTO_DRIVE',0,None,None,0)\n",
    "ASC_AUTO_PASS = Beta('ASC_AUTO_PASS',0,None,None,0)\n",
    "ASC_METRO = Beta('ASC_METRO',0,None,None,0)\n",
    "ASC_TRAIN = Beta('ASC_TRAIN',0,None,None,0)\n",
    "ASC_WALK = Beta('ASC_WALK',0,None,None,1)\n",
    "\n",
    "# Sociodemo variables\n",
    "B_SEX = Beta('B_SEX',0,None,None,0) # 1 if female; 0 if otherwise\n",
    "B_AGE = Beta('B_AGE',0,None,None,0) # age\n",
    "B_EMP = Beta('B_EMP',0,None,None,0) # parttime or fulltime\n",
    "B_WKWK = Beta('B_WKWK',0,None,None,0) # work week\n",
    "B_INC = Beta('B_INC',0,None,None,0) # income\n",
    "B_NVEH = Beta('B_NVEH',0,None,None,0) # number of household vehicles\n",
    "\n",
    "# Generalized travel variables\n",
    "B_IVTT = Beta('B_IVTT',0,None,None,0) # in vehicle travel time\n",
    "B_DIST = Beta('B_DIST',0,None,None,0) # distance\n",
    "\n",
    "# Car-related variables\n",
    "B_DLIC = Beta('B_DLIC',0,None,None,0) # drivers license 1 or 0\n",
    "\n",
    "# Train-related variables\n",
    "B_NTERM = Beta('B_NTERM',0,None,None,0) # commuter train access station\n",
    "B_GFARE = Beta('B_GFARE',0,None,None,0) # commuter train fare\n",
    "B_GWAIT = Beta('B_GWAIT',0,None,None,0) # commuter train wait time\n",
    "B_GACCA = Beta('B_GACCA',0,None,None,0) # commuter train wait time\n",
    "B_EGRESS = Beta('B_GACCA',0,None,None,0) # commuter train wait time\n",
    "\n",
    "\n",
    "# Metro-related variables\n",
    "B_MSUB = Beta('B_MSUB',0,None,None,0) # closest metro station to destination\n",
    "B_MDIS = Beta('B_MDIS',0,None,None,0) # distance from metro to destination\n",
    "B_TFARE = Beta('B_TFARE',0,None,None,0) # transit fare\n",
    "B_TWAIT = Beta('B_TWAIT',0,None,None,0) # transit wait time"
   ]
  },
  {
   "cell_type": "markdown",
   "metadata": {},
   "source": [
    "The next cell defines new variables in order to exclude crazy values"
   ]
  },
  {
   "cell_type": "code",
   "execution_count": 107,
   "metadata": {},
   "outputs": [],
   "source": [
    "# Updating variables to account for 'missing' values \n",
    "nveh_fix =  DefineVariable('nveh_fix', nveh * (nveh != 9), database)\n",
    "gfare_fix = DefineVariable('gfare_fix', gfare * (gfare != 9999), database)\n",
    "tfare_fix = DefineVariable('tfare_fix', tfare * (tfare != 9999), database)\n",
    "gwait_fix = DefineVariable('gwait_fix', gwait * (gwait != 9999), database)\n",
    "twait_fix = DefineVariable('twait_fix', twait * (twait != 9999), database)"
   ]
  },
  {
   "cell_type": "code",
   "execution_count": 108,
   "metadata": {},
   "outputs": [],
   "source": [
    "V1 = ASC_AUTO_DRIVE + \\\n",
    "     B_DIST * trdist + \\\n",
    "     B_DLIC * dlic + \\\n",
    "     B_IVTT * ivtt1\n",
    "V2 = ASC_AUTO_PASS + \\\n",
    "     B_NVEH * nveh_fix + \\\n",
    "     B_IVTT * ivtt2\n",
    "V3 = ASC_METRO + \\\n",
    "     B_TFARE * tfare_fix + \\\n",
    "     B_TWAIT * twait_fix + \\\n",
    "     B_IVTT * ivtt3\n",
    "V4 = ASC_TRAIN + \\\n",
    "     B_NTERM * nterm + \\\n",
    "     B_GFARE * gfare_fix + \\\n",
    "     B_GWAIT * gwait_fix + \\\n",
    "     B_IVTT * ivtt4\n",
    "V5 = ASC_WALK + \\\n",
    "     B_AGE * age * age2 + \\\n",
    "     B_IVTT * ivtt5"
   ]
  },
  {
   "cell_type": "code",
   "execution_count": 109,
   "metadata": {},
   "outputs": [
    {
     "name": "stdout",
     "output_type": "stream",
     "text": [
      "ASC_AUTO_DRIVE=\t-75.6\n",
      "ASC_AUTO_PASS=\t-10.5\n",
      "ASC_METRO=\t-8.04\n",
      "ASC_TRAIN=\t-5.44\n",
      "B_AGE=\t1.14\n",
      "B_DIST=\t-0.0348\n",
      "B_DLIC=\t66.6\n",
      "B_GFARE=\t-1.33\n",
      "B_GWAIT=\t-0.213\n",
      "B_IVTT=\t-0.0325\n",
      "B_NTERM=\t-0.0727\n",
      "B_NVEH=\t-0.41\n",
      "B_TFARE=\t-0.849\n",
      "B_TWAIT=\t-0.0223\n",
      "                    Value    Std err    t-test       p-value  Rob. Std err  \\\n",
      "ASC_AUTO_DRIVE -75.634631  44.329743 -1.706182  8.797411e-02      0.533778   \n",
      "ASC_AUTO_PASS  -10.509120  88.659436 -0.118534  9.056449e-01      1.067715   \n",
      "ASC_METRO       -8.042496  88.660274 -0.090711  9.277219e-01      1.118023   \n",
      "ASC_TRAIN       -5.437184  88.664409 -0.061323  9.511018e-01      1.465030   \n",
      "B_AGE            1.143979        NaN  0.000000  1.000000e+00           NaN   \n",
      "B_DIST          -0.034805   0.011763 -2.958919  3.087204e-03      0.009657   \n",
      "B_DLIC          66.601814  44.329743  1.502418  1.329891e-01      0.533778   \n",
      "B_GFARE         -1.327526   0.219460 -6.049049  1.457034e-09      0.225722   \n",
      "B_GWAIT         -0.212836   0.435947 -0.488216  6.253969e-01      0.470588   \n",
      "B_IVTT          -0.032546   0.012348 -2.635646  8.397724e-03      0.010940   \n",
      "B_NTERM         -0.072656   0.036296 -2.001773  4.530914e-02      0.040644   \n",
      "B_NVEH          -0.410265   0.260106 -1.577302  1.147260e-01      0.215596   \n",
      "B_TFARE         -0.849190   0.524319 -1.619607  1.053168e-01      0.469176   \n",
      "B_TWAIT         -0.022288   0.034438 -0.647199  5.175031e-01      0.031779   \n",
      "\n",
      "                Rob. t-test  Rob. p-value  \n",
      "ASC_AUTO_DRIVE  -141.696704  0.000000e+00  \n",
      "ASC_AUTO_PASS     -9.842631  0.000000e+00  \n",
      "ASC_METRO         -7.193500  6.314949e-13  \n",
      "ASC_TRAIN         -3.711313  2.061869e-04  \n",
      "B_AGE              0.000000  1.000000e+00  \n",
      "B_DIST            -3.603916  3.134583e-04  \n",
      "B_DLIC           124.774289  0.000000e+00  \n",
      "B_GFARE           -5.881239  4.072061e-09  \n",
      "B_GWAIT           -0.452278  6.510687e-01  \n",
      "B_IVTT            -2.974858  2.931241e-03  \n",
      "B_NTERM           -1.787617  7.383781e-02  \n",
      "B_NVEH            -1.902937  5.704878e-02  \n",
      "B_TFARE           -1.809962  7.030175e-02  \n",
      "B_TWAIT           -0.701358  4.830797e-01  \n"
     ]
    },
    {
     "name": "stderr",
     "output_type": "stream",
     "text": [
      "C:\\Users\\rafva\\Anaconda3\\lib\\site-packages\\biogeme\\results.py:168: RuntimeWarning: invalid value encountered in sqrt\n",
      "  self.data.betas[i].setStdErr(np.sqrt(self.data.varCovar[i,i]))\n",
      "C:\\Users\\rafva\\Anaconda3\\lib\\site-packages\\biogeme\\results.py:182: RuntimeWarning: invalid value encountered in sqrt\n",
      "  self.data.betas[i].setRobustStdErr(np.sqrt(self.data.robust_varCovar[i,i]))\n"
     ]
    }
   ],
   "source": [
    "# Associate utility functions with the numbering of alternatives\n",
    "V = {1: V1,\n",
    "     2: V2,\n",
    "     3: V3,\n",
    "     4: V4,\n",
    "     5: V5}\n",
    "\n",
    "# Associate the availability conditions with the alternatives\n",
    "\n",
    "av = {1: avail1,\n",
    "      2: avail2,\n",
    "      3: avail3,\n",
    "      4: avail4,\n",
    "      5: avail5}\n",
    "\n",
    "logprob = bioLogLogit(V,av,choice)\n",
    "biogeme  = bio.BIOGEME(database,logprob) # This is my log likelihood function\n",
    "biogeme.modelName = \"MNL_Model_final\"\n",
    "results = biogeme.estimate()\n",
    "\n",
    "# Print the estimated values\n",
    "betas = results.getBetaValues()\n",
    "for k,v in betas.items():\n",
    "    print(f\"{k}=\\t{v:.3g}\")\n",
    "\n",
    "# Get the results in a pandas table\n",
    "pandasResults = results.getEstimatedParameters()\n",
    "print(pandasResults)"
   ]
  }
 ],
 "metadata": {
  "kernelspec": {
   "display_name": "Python 3",
   "language": "python",
   "name": "python3"
  },
  "language_info": {
   "codemirror_mode": {
    "name": "ipython",
    "version": 3
   },
   "file_extension": ".py",
   "mimetype": "text/x-python",
   "name": "python",
   "nbconvert_exporter": "python",
   "pygments_lexer": "ipython3",
   "version": "3.7.1"
  }
 },
 "nbformat": 4,
 "nbformat_minor": 2
}
