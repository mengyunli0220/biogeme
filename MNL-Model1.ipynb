{
 "cells": [
  {
   "cell_type": "code",
   "execution_count": 16,
   "metadata": {},
   "outputs": [],
   "source": [
    "import pandas as pd\n",
    "import biogeme.database as db\n",
    "import biogeme.biogeme as bio\n",
    "\n",
    "pandas = pd.read_table(\"tripdata.dat\")\n",
    "database = db.Database(\"tripdata\",pandas)\n",
    "\n",
    "# The Pandas data structure is available as database.data. Use all the\n",
    "# Pandas functions to invesigate the database\n",
    "#print(database.data.describe())\n",
    "\n",
    "from headers import *"
   ]
  },
  {
   "cell_type": "markdown",
   "metadata": {},
   "source": [
    "Below are all of the variables declarations:"
   ]
  },
  {
   "cell_type": "code",
   "execution_count": 17,
   "metadata": {
    "scrolled": false
   },
   "outputs": [],
   "source": [
    "# Alternative specific constants\n",
    "ASC_AUTO_DRIVE = Beta('ASC_AUTO_DRIVE',0,None,None,0)\n",
    "ASC_AUTO_PASS = Beta('ASC_AUTO_PASS',0,None,None,0)\n",
    "ASC_METRO = Beta('ASC_METRO',0,None,None,0)\n",
    "ASC_TRAIN = Beta('ASC_TRAIN',0,None,None,0)\n",
    "ASC_WALK = Beta('ASC_WALK',0,None,None,1)\n",
    "\n",
    "# Sociodemo variables\n",
    "B_SEX = Beta('B_SEX',0,None,None,0) # 1 if female; 0 if otherwise\n",
    "B_AGE = Beta('B_AGE',0,None,None,0) # age\n",
    "B_EMP = Beta('B_EMP',0,None,None,0) # parttime or fulltime\n",
    "B_WKWK = Beta('B_WKWK',0,None,None,0) # work week\n",
    "B_INC = Beta('B_INC',0,None,None,0) # income\n",
    "B_NVEH = Beta('B_NVEH',0,None,None,0) # number of household vehicles\n",
    "\n",
    "# Generalized travel variables\n",
    "B_IVTT = Beta('B_IVTT',0,None,None,0) # in vehicle travel time\n",
    "B_DIST = Beta('B_DIST',0,None,None,0) # distance\n",
    "\n",
    "# Car-related variables\n",
    "B_DLIC = Beta('B_DLIC',0,None,None,0) # drivers license 1 or 0\n",
    "\n",
    "# Train-related variables\n",
    "B_NTERM = Beta('B_NTERM',0,None,None,0) # commuter train access station\n",
    "B_GFARE = Beta('B_GFARE',0,None,None,0) # commuter train fare\n",
    "B_GWAIT = Beta('B_GWAIT',0,None,None,0) # commuter train wait time\n",
    "B_GACCA = Beta('B_GACCA',0,None,None,0) # commuter train wait time\n",
    "B_EGRESS = Beta('B_GACCA',0,None,None,0) # commuter train wait time\n",
    "\n",
    "\n",
    "# Metro-related variables\n",
    "B_MSUB = Beta('B_MSUB',0,None,None,0) # closest metro station to destination\n",
    "B_MDIS = Beta('B_MDIS',0,None,None,0) # distance from metro to destination\n",
    "B_TFARE = Beta('B_TFARE',0,None,None,0) # transit fare\n",
    "B_TWAIT = Beta('B_TWAIT',0,None,None,0) # transit wait time"
   ]
  },
  {
   "cell_type": "markdown",
   "metadata": {},
   "source": [
    "The next cell defines new variables in order to exclude crazy values"
   ]
  },
  {
   "cell_type": "code",
   "execution_count": 18,
   "metadata": {},
   "outputs": [],
   "source": [
    "# Updating variables to account for 'missing' values \n",
    "nveh_fix =  DefineVariable('nveh_fix', nveh * (nveh != 9), database)\n",
    "gfare_fix = DefineVariable('gfare_fix', gfare * (gfare != 9999), database)\n",
    "tfare_fix = DefineVariable('tfare_fix', tfare * (tfare != 9999), database)\n",
    "gwait_fix = DefineVariable('gwait_fix', gwait * (gwait != 9999), database)\n",
    "twait_fix = DefineVariable('twait_fix', twait * (twait != 9999), database)"
   ]
  },
  {
   "cell_type": "code",
   "execution_count": 19,
   "metadata": {},
   "outputs": [],
   "source": [
    "V1 = ASC_AUTO_DRIVE + \\\n",
    "     B_DIST * trdist + \\\n",
    "     B_DLIC * dlic + \\\n",
    "     B_IVTT * ivtt1 + \\\n",
    "     B_SEX * female\n",
    "V2 = ASC_AUTO_PASS + \\\n",
    "     B_NVEH * nveh_fix + \\\n",
    "     B_IVTT * ivtt2 + \\\n",
    "     B_SEX * female\n",
    "V3 = ASC_METRO + \\\n",
    "     B_TFARE * tfare_fix + \\\n",
    "     B_IVTT * ivtt3 + \\\n",
    "     B_SEX * female\n",
    "V4 = ASC_TRAIN + \\\n",
    "     B_NTERM * nterm + \\\n",
    "     B_GFARE * gfare_fix + \\\n",
    "     B_IVTT * ivtt4 + \\\n",
    "     B_SEX * female\n",
    "V5 = ASC_WALK + \\\n",
    "     B_AGE * age * age2 + \\\n",
    "     B_IVTT * ivtt5 + \\\n",
    "     B_SEX * female"
   ]
  },
  {
   "cell_type": "code",
   "execution_count": 20,
   "metadata": {},
   "outputs": [
    {
     "name": "stdout",
     "output_type": "stream",
     "text": [
      "ASC_AUTO_DRIVE=\t-158\n",
      "ASC_AUTO_PASS=\t-14.7\n",
      "ASC_METRO=\t-12.1\n",
      "ASC_TRAIN=\t-9.54\n",
      "B_AGE=\t26.1\n",
      "B_DIST=\t-0.0328\n",
      "B_DLIC=\t144\n",
      "B_GFARE=\t-1.36\n",
      "B_IVTT=\t-0.0328\n",
      "B_NTERM=\t-0.0768\n",
      "B_NVEH=\t-0.386\n",
      "B_SEX=\t0\n",
      "B_TFARE=\t-1.04\n",
      "                     Value       Std err        t-test       p-value  \\\n",
      "ASC_AUTO_DRIVE -157.654225  3.426298e+02 -4.601300e-01  6.454229e-01   \n",
      "ASC_AUTO_PASS   -14.697491  6.852596e+02 -2.144806e-02  9.828882e-01   \n",
      "ASC_METRO       -12.148864  6.852597e+02 -1.772885e-02  9.858552e-01   \n",
      "ASC_TRAIN        -9.535084  6.852602e+02 -1.391454e-02  9.888982e-01   \n",
      "B_AGE            26.066287  2.769343e-06  9.412445e+06  0.000000e+00   \n",
      "B_DIST           -0.032847  1.126415e-02 -2.916054e+00  3.544896e-03   \n",
      "B_DLIC          144.421483  3.426298e+02  4.215088e-01  6.733836e-01   \n",
      "B_GFARE          -1.364044  1.971471e-01 -6.918916e+00  4.551026e-12   \n",
      "B_IVTT           -0.032785  1.230498e-02 -2.664400e+00  7.712584e-03   \n",
      "B_NTERM          -0.076760  3.572613e-02 -2.148581e+00  3.166759e-02   \n",
      "B_NVEH           -0.386075  2.561033e-01 -1.507497e+00  1.316834e-01   \n",
      "B_SEX             0.000000  3.003856e-07  0.000000e+00  1.000000e+00   \n",
      "B_TFARE          -1.043181  4.349676e-01 -2.398296e+00  1.647153e-02   \n",
      "\n",
      "                Rob. Std err   Rob. t-test  Rob. p-value  \n",
      "ASC_AUTO_DRIVE  5.292546e-01 -2.978798e+02  0.000000e+00  \n",
      "ASC_AUTO_PASS   1.061406e+00 -1.384719e+01  0.000000e+00  \n",
      "ASC_METRO       1.118090e+00 -1.086573e+01  0.000000e+00  \n",
      "ASC_TRAIN       1.470270e+00 -6.485262e+00  8.857781e-11  \n",
      "B_AGE           4.525121e-09  5.760351e+09  0.000000e+00  \n",
      "B_DIST          9.304889e-03 -3.530064e+00  4.154596e-04  \n",
      "B_DLIC          5.293966e-01  2.728039e+02  0.000000e+00  \n",
      "B_GFARE         2.025561e-01 -6.734152e+00  1.648881e-11  \n",
      "B_IVTT          1.095744e-02 -2.992067e+00  2.770956e-03  \n",
      "B_NTERM         3.955564e-02 -1.940570e+00  5.231044e-02  \n",
      "B_NVEH          2.076797e-01 -1.858991e+00  6.302838e-02  \n",
      "B_SEX           4.900832e-10  0.000000e+00  1.000000e+00  \n",
      "B_TFARE         3.869046e-01 -2.696224e+00  7.013055e-03  \n"
     ]
    }
   ],
   "source": [
    "# Associate utility functions with the numbering of alternatives\n",
    "V = {1: V1,\n",
    "     2: V2,\n",
    "     3: V3,\n",
    "     4: V4,\n",
    "     5: V5}\n",
    "\n",
    "# Associate the availability conditions with the alternatives\n",
    "\n",
    "av = {1: avail1,\n",
    "      2: avail2,\n",
    "      3: avail3,\n",
    "      4: avail4,\n",
    "      5: avail5}\n",
    "\n",
    "logprob = bioLogLogit(V,av,choice)\n",
    "biogeme  = bio.BIOGEME(database,logprob) # This is my log likelihood function\n",
    "biogeme.modelName = \"MNL_Model_final\"\n",
    "results = biogeme.estimate()\n",
    "\n",
    "# Print the estimated values\n",
    "betas = results.getBetaValues()\n",
    "for k,v in betas.items():\n",
    "    print(f\"{k}=\\t{v:.3g}\")\n",
    "\n",
    "# Get the results in a pandas table\n",
    "pandasResults = results.getEstimatedParameters()\n",
    "print(pandasResults)"
   ]
  }
 ],
 "metadata": {
  "kernelspec": {
   "display_name": "Python 3",
   "language": "python",
   "name": "python3"
  },
  "language_info": {
   "codemirror_mode": {
    "name": "ipython",
    "version": 3
   },
   "file_extension": ".py",
   "mimetype": "text/x-python",
   "name": "python",
   "nbconvert_exporter": "python",
   "pygments_lexer": "ipython3",
   "version": "3.7.1"
  }
 },
 "nbformat": 4,
 "nbformat_minor": 2
}
